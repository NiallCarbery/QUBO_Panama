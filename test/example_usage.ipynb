{
 "cells": [
  {
   "cell_type": "code",
   "execution_count": 11,
   "metadata": {},
   "outputs": [],
   "source": [
    "import sys\n",
    "import os\n",
    "\n",
    "# Add the path to the code directory to the system path\n",
    "sys.path.insert(0, os.path.abspath(os.path.join(os.path.abspath(\".\"), '../code')))\n",
    "\n",
    "from run import run_instance, print_results"
   ]
  },
  {
   "cell_type": "code",
   "execution_count": 17,
   "metadata": {},
   "outputs": [
    {
     "name": "stdout",
     "output_type": "stream",
     "text": [
      "Instance with 7 ships (and 7 time slots):\n",
      "  Optimized total water cost = 217.0\n",
      "  Baseline total water cost   = 360\n",
      "  Number of feasible solutions: 10\n",
      "  Number of infeasible solutions: 0\n",
      "  Tandem lockages used: 1\n",
      "  Cross fills applied: 3\n",
      "  Length of ships: [11, 9, 8, 12, 8, 12, 12]\n",
      "  Timetable for best solution:\n",
      "\n",
      "Timetable by Time Slot:\n",
      "  Time slot 0 (Lock type: Panamax_A): Ships [7]\n",
      "  Time slot 1 (Lock type: Panamax_B): Ships [2]\n",
      "  Time slot 2 (Lock type: Panamax_A): Ships [3]\n",
      "  Time slot 3 (Lock type: Panamax_B): Ships [5]\n",
      "  Time slot 4 (Lock type: NeoPanamax): Ships []\n",
      "  Time slot 5 (Lock type: NeoPanamax): Ships [4, 6]\n",
      "  Time slot 6 (Lock type: NeoPanamax): Ships [1]\n",
      "\n",
      "--------------------------------------------------\n",
      "\n"
     ]
    }
   ],
   "source": [
    "# Example Single Usage\n",
    "number_ships=  7\n",
    "number_time_slots = number_ships # Currently only support equal numbers of ships and time slots\n",
    "NUM_READS = 10 # Number of of iterations of the simulated annealer\n",
    "\n",
    "results = run_instance(number_ships, number_time_slots, NUM_READS)\n",
    "print_results(number_ships, number_time_slots, results)"
   ]
  }
 ],
 "metadata": {
  "kernelspec": {
   "display_name": "Python 3",
   "language": "python",
   "name": "python3"
  },
  "language_info": {
   "codemirror_mode": {
    "name": "ipython",
    "version": 3
   },
   "file_extension": ".py",
   "mimetype": "text/x-python",
   "name": "python",
   "nbconvert_exporter": "python",
   "pygments_lexer": "ipython3",
   "version": "3.12.3"
  }
 },
 "nbformat": 4,
 "nbformat_minor": 2
}
